{
 "cells": [
  {
   "cell_type": "code",
   "execution_count": 118,
   "id": "2b58628d-ef8f-4d4b-95b8-25d2a221129d",
   "metadata": {},
   "outputs": [
    {
     "name": "stdin",
     "output_type": "stream",
     "text": [
      "What would you like to do? (take ticket/pay/leave/exit):  exit\n"
     ]
    }
   ],
   "source": [
    "class parking_garage:\n",
    "    def __init__(self):\n",
    "        self.tickets = 10\n",
    "        self.parkingSpaces = 10\n",
    "        self.currentTicket = False\n",
    "        self.payment = []\n",
    "        self.enter = False\n",
    "        self.ticketPaid = False\n",
    "\n",
    "    def takeTicket(self):\n",
    "        if self.parkingSpaces > 0:\n",
    "            print('Continue to the parking area.')\n",
    "            self.tickets = self.tickets - 1\n",
    "            self.parkingSpaces = self.parkingSpaces - 1\n",
    "            self.currentTicket = True\n",
    "            self.enter = True\n",
    "        else:\n",
    "            print('Sorry. No available spaces')\n",
    "            self.currentTicket = False\n",
    "\n",
    "    def payForParking(self):\n",
    "        if self.currentTicket == True:\n",
    "            fee = input('To pay now, insert $5.00 Y/N:')\n",
    "            if fee.lower() == 'y':\n",
    "                self.payment.append(5)\n",
    "                self.ticketPaid = True\n",
    "                print('Ticket paid. 15 minutes available')\n",
    "        elif self.currentTicket == False:\n",
    "            print('No ticket, no entry')\n",
    "\n",
    "    def leaveGarage(self):\n",
    "        if self.enter == False:\n",
    "            print('You cannot leave until you take a ticket and enter.')\n",
    "        if self.currentTicket == True and self.enter == True and self.ticketPaid == True:\n",
    "            print('Thank you, have a nice day!')\n",
    "            self.tickets = self.tickets + 1\n",
    "            self.parkingSpaces = self.parkingSpaces + 1\n",
    "            self.enter == False\n",
    "            self.ticketPaid == False\n",
    "            self.currentTicket == False\n",
    "        elif self.enter == True and self.ticketPaid == False:\n",
    "            fee = input('Insert $5.00 Y/N: ')\n",
    "            if fee.lower() == 'y':\n",
    "                self.payment.append(5)\n",
    "                self.ticketPaid = True\n",
    "                print('Thank you, have a nice day!')\n",
    "                self.ticketPaid ==False\n",
    "                self.currentTicket == False\n",
    "                self.enter == False\n",
    "            elif fee.lower() == 'n':\n",
    "                print(\"Come back when you can afford it.\")\n",
    "            else:\n",
    "                print('Invalid input. Please try again.')\n",
    "\n",
    "garage = parking_garage()\n",
    "\n",
    "while True:\n",
    "    action = input('What would you like to do? (take ticket/pay/leave/exit): ')\n",
    "    \n",
    "    if action.lower() == 'take ticket':\n",
    "        garage.takeTicket()\n",
    "    elif action.lower() == 'pay':\n",
    "        garage.payForParking()\n",
    "    elif action.lower() == 'leave':\n",
    "        garage.leaveGarage()\n",
    "    elif action.lower() == 'exit':\n",
    "        break\n",
    "    else:\n",
    "        print('Invalid action. Please try again.')"
   ]
  },
  {
   "cell_type": "code",
   "execution_count": null,
   "id": "9a46cb7f-6266-4004-8a6b-42b610f1f4d9",
   "metadata": {},
   "outputs": [],
   "source": []
  }
 ],
 "metadata": {
  "kernelspec": {
   "display_name": "anaconda-panel-2023.05-py310",
   "language": "python",
   "name": "conda-env-anaconda-panel-2023.05-py310-py"
  },
  "language_info": {
   "codemirror_mode": {
    "name": "ipython",
    "version": 3
   },
   "file_extension": ".py",
   "mimetype": "text/x-python",
   "name": "python",
   "nbconvert_exporter": "python",
   "pygments_lexer": "ipython3",
   "version": "3.11.5"
  }
 },
 "nbformat": 4,
 "nbformat_minor": 5
}
